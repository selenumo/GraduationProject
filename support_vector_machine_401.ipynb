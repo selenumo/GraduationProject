{
  "nbformat": 4,
  "nbformat_minor": 0,
  "metadata": {
    "colab": {
      "provenance": [],
      "include_colab_link": true
    },
    "kernelspec": {
      "name": "python3",
      "display_name": "Python 3"
    },
    "accelerator": "GPU"
  },
  "cells": [
    {
      "cell_type": "markdown",
      "metadata": {
        "id": "view-in-github",
        "colab_type": "text"
      },
      "source": [
        "<a href=\"https://colab.research.google.com/github/selenumo/GraduationProject/blob/main/support_vector_machine_401.ipynb\" target=\"_parent\"><img src=\"https://colab.research.google.com/assets/colab-badge.svg\" alt=\"Open In Colab\"/></a>"
      ]
    },
    {
      "cell_type": "code",
      "metadata": {
        "id": "bCB05rsV_dd-",
        "colab": {
          "base_uri": "https://localhost:8080/"
        },
        "outputId": "4314012a-f15f-4e68-bbe7-29b25f667359"
      },
      "source": [
        "from google.colab import drive\n",
        "drive.mount('/content/drive')"
      ],
      "execution_count": 3,
      "outputs": [
        {
          "output_type": "stream",
          "name": "stdout",
          "text": [
            "Mounted at /content/drive\n"
          ]
        }
      ]
    },
    {
      "cell_type": "code",
      "metadata": {
        "id": "JgIS60QJ_evZ"
      },
      "source": [
        "!ln -s /content/drive/My\\ Drive/ /mydrive"
      ],
      "execution_count": null,
      "outputs": []
    },
    {
      "cell_type": "code",
      "metadata": {
        "id": "g3kaa0VrAm4p"
      },
      "source": [
        "import numpy as np\n",
        "import pandas as pd\n",
        "import matplotlib.pyplot as plt\n",
        "%matplotlib inline"
      ],
      "execution_count": 1,
      "outputs": []
    },
    {
      "cell_type": "code",
      "metadata": {
        "id": "yVjAOI5MAWeD"
      },
      "source": [
        "df = pd.read_csv('/content/drive/MyDrive/ele401/data_401/data_final.csv')"
      ],
      "execution_count": 4,
      "outputs": []
    },
    {
      "cell_type": "code",
      "source": [
        "df"
      ],
      "metadata": {
        "colab": {
          "base_uri": "https://localhost:8080/",
          "height": 505
        },
        "id": "ddq3A32EvfyI",
        "outputId": "3dabb039-cce6-432d-dbca-01149676e7c5"
      },
      "execution_count": null,
      "outputs": [
        {
          "output_type": "execute_result",
          "data": {
            "text/plain": [
              "       Unnamed: 0      0      1      2      3       4       5      6       7  \\\n",
              "0               0   0.00   0.00   0.00  0.000   0.000   0.000   0.00   0.000   \n",
              "1               1   0.00   0.00   0.00  0.000   0.000   0.000   0.00   0.000   \n",
              "2               2   0.00   0.00   0.00  0.000   0.000   0.000   0.00   0.000   \n",
              "3               3   0.00   0.00   0.00  0.000   0.000   0.000   0.00   0.000   \n",
              "4               4   2.90   3.42   3.81  4.580   3.560   4.250   3.86   3.530   \n",
              "...           ...    ...    ...    ...    ...     ...     ...    ...     ...   \n",
              "42367       42367  11.56   7.15   9.18  7.510   7.310   8.110   7.29   9.500   \n",
              "42368       42368   0.00   0.00   0.00  0.000   0.000   0.000   0.00   0.000   \n",
              "42369       42369  15.35  15.76  12.32  4.540  14.700  20.230  18.31  22.426   \n",
              "42370       42370   0.00   0.00   0.00  0.000   0.000   0.000   0.00   0.000   \n",
              "42371       42371   5.20   4.78   5.08  6.133   6.133   6.133   6.04   6.133   \n",
              "\n",
              "            8  ...    1025   1026    1027    1028   1029    1030    1031  \\\n",
              "0       0.000  ...   9.960  16.92   7.600  25.039  18.05  25.039  18.750   \n",
              "1       0.000  ...   0.000   0.00   0.000   0.000   0.00   0.000   0.000   \n",
              "2       0.000  ...   0.000   0.00   0.000   0.000   0.00   0.000   0.000   \n",
              "3       0.000  ...   9.990  11.78  18.590  25.280  18.57  14.590  12.820   \n",
              "4       3.410  ...  10.370  15.32  13.510  12.230  14.68  16.350  16.819   \n",
              "...       ...  ...     ...    ...     ...     ...    ...     ...     ...   \n",
              "42367   5.580  ...  15.022   7.78  15.022   7.930   6.54   7.270  12.920   \n",
              "42368   0.000  ...   2.030   2.09   2.060   1.940   2.08   1.960   2.090   \n",
              "42369  22.426  ...  10.390   9.58   8.770  14.330  19.82  18.650  17.460   \n",
              "42370   0.000  ...  16.907   8.61  15.510  11.560  10.82  14.180   7.920   \n",
              "42371   6.133  ...   3.330   2.48   2.770   3.060   2.77   2.530   1.900   \n",
              "\n",
              "         1032    1033  OutPut  \n",
              "0      17.840  14.920       1  \n",
              "1       0.000   0.000       1  \n",
              "2       0.000   0.000       1  \n",
              "3      19.370  15.920       1  \n",
              "4      16.819  16.819       1  \n",
              "...       ...     ...     ...  \n",
              "42367  10.030   7.760       0  \n",
              "42368   1.930   2.080       0  \n",
              "42369  10.150  16.730       0  \n",
              "42370   8.930   8.170       0  \n",
              "42371   2.360   2.510       0  \n",
              "\n",
              "[42372 rows x 1036 columns]"
            ],
            "text/html": [
              "\n",
              "  <div id=\"df-92d59276-bd78-4061-b310-3448cca10eaa\">\n",
              "    <div class=\"colab-df-container\">\n",
              "      <div>\n",
              "<style scoped>\n",
              "    .dataframe tbody tr th:only-of-type {\n",
              "        vertical-align: middle;\n",
              "    }\n",
              "\n",
              "    .dataframe tbody tr th {\n",
              "        vertical-align: top;\n",
              "    }\n",
              "\n",
              "    .dataframe thead th {\n",
              "        text-align: right;\n",
              "    }\n",
              "</style>\n",
              "<table border=\"1\" class=\"dataframe\">\n",
              "  <thead>\n",
              "    <tr style=\"text-align: right;\">\n",
              "      <th></th>\n",
              "      <th>Unnamed: 0</th>\n",
              "      <th>0</th>\n",
              "      <th>1</th>\n",
              "      <th>2</th>\n",
              "      <th>3</th>\n",
              "      <th>4</th>\n",
              "      <th>5</th>\n",
              "      <th>6</th>\n",
              "      <th>7</th>\n",
              "      <th>8</th>\n",
              "      <th>...</th>\n",
              "      <th>1025</th>\n",
              "      <th>1026</th>\n",
              "      <th>1027</th>\n",
              "      <th>1028</th>\n",
              "      <th>1029</th>\n",
              "      <th>1030</th>\n",
              "      <th>1031</th>\n",
              "      <th>1032</th>\n",
              "      <th>1033</th>\n",
              "      <th>OutPut</th>\n",
              "    </tr>\n",
              "  </thead>\n",
              "  <tbody>\n",
              "    <tr>\n",
              "      <th>0</th>\n",
              "      <td>0</td>\n",
              "      <td>0.00</td>\n",
              "      <td>0.00</td>\n",
              "      <td>0.00</td>\n",
              "      <td>0.000</td>\n",
              "      <td>0.000</td>\n",
              "      <td>0.000</td>\n",
              "      <td>0.00</td>\n",
              "      <td>0.000</td>\n",
              "      <td>0.000</td>\n",
              "      <td>...</td>\n",
              "      <td>9.960</td>\n",
              "      <td>16.92</td>\n",
              "      <td>7.600</td>\n",
              "      <td>25.039</td>\n",
              "      <td>18.05</td>\n",
              "      <td>25.039</td>\n",
              "      <td>18.750</td>\n",
              "      <td>17.840</td>\n",
              "      <td>14.920</td>\n",
              "      <td>1</td>\n",
              "    </tr>\n",
              "    <tr>\n",
              "      <th>1</th>\n",
              "      <td>1</td>\n",
              "      <td>0.00</td>\n",
              "      <td>0.00</td>\n",
              "      <td>0.00</td>\n",
              "      <td>0.000</td>\n",
              "      <td>0.000</td>\n",
              "      <td>0.000</td>\n",
              "      <td>0.00</td>\n",
              "      <td>0.000</td>\n",
              "      <td>0.000</td>\n",
              "      <td>...</td>\n",
              "      <td>0.000</td>\n",
              "      <td>0.00</td>\n",
              "      <td>0.000</td>\n",
              "      <td>0.000</td>\n",
              "      <td>0.00</td>\n",
              "      <td>0.000</td>\n",
              "      <td>0.000</td>\n",
              "      <td>0.000</td>\n",
              "      <td>0.000</td>\n",
              "      <td>1</td>\n",
              "    </tr>\n",
              "    <tr>\n",
              "      <th>2</th>\n",
              "      <td>2</td>\n",
              "      <td>0.00</td>\n",
              "      <td>0.00</td>\n",
              "      <td>0.00</td>\n",
              "      <td>0.000</td>\n",
              "      <td>0.000</td>\n",
              "      <td>0.000</td>\n",
              "      <td>0.00</td>\n",
              "      <td>0.000</td>\n",
              "      <td>0.000</td>\n",
              "      <td>...</td>\n",
              "      <td>0.000</td>\n",
              "      <td>0.00</td>\n",
              "      <td>0.000</td>\n",
              "      <td>0.000</td>\n",
              "      <td>0.00</td>\n",
              "      <td>0.000</td>\n",
              "      <td>0.000</td>\n",
              "      <td>0.000</td>\n",
              "      <td>0.000</td>\n",
              "      <td>1</td>\n",
              "    </tr>\n",
              "    <tr>\n",
              "      <th>3</th>\n",
              "      <td>3</td>\n",
              "      <td>0.00</td>\n",
              "      <td>0.00</td>\n",
              "      <td>0.00</td>\n",
              "      <td>0.000</td>\n",
              "      <td>0.000</td>\n",
              "      <td>0.000</td>\n",
              "      <td>0.00</td>\n",
              "      <td>0.000</td>\n",
              "      <td>0.000</td>\n",
              "      <td>...</td>\n",
              "      <td>9.990</td>\n",
              "      <td>11.78</td>\n",
              "      <td>18.590</td>\n",
              "      <td>25.280</td>\n",
              "      <td>18.57</td>\n",
              "      <td>14.590</td>\n",
              "      <td>12.820</td>\n",
              "      <td>19.370</td>\n",
              "      <td>15.920</td>\n",
              "      <td>1</td>\n",
              "    </tr>\n",
              "    <tr>\n",
              "      <th>4</th>\n",
              "      <td>4</td>\n",
              "      <td>2.90</td>\n",
              "      <td>3.42</td>\n",
              "      <td>3.81</td>\n",
              "      <td>4.580</td>\n",
              "      <td>3.560</td>\n",
              "      <td>4.250</td>\n",
              "      <td>3.86</td>\n",
              "      <td>3.530</td>\n",
              "      <td>3.410</td>\n",
              "      <td>...</td>\n",
              "      <td>10.370</td>\n",
              "      <td>15.32</td>\n",
              "      <td>13.510</td>\n",
              "      <td>12.230</td>\n",
              "      <td>14.68</td>\n",
              "      <td>16.350</td>\n",
              "      <td>16.819</td>\n",
              "      <td>16.819</td>\n",
              "      <td>16.819</td>\n",
              "      <td>1</td>\n",
              "    </tr>\n",
              "    <tr>\n",
              "      <th>...</th>\n",
              "      <td>...</td>\n",
              "      <td>...</td>\n",
              "      <td>...</td>\n",
              "      <td>...</td>\n",
              "      <td>...</td>\n",
              "      <td>...</td>\n",
              "      <td>...</td>\n",
              "      <td>...</td>\n",
              "      <td>...</td>\n",
              "      <td>...</td>\n",
              "      <td>...</td>\n",
              "      <td>...</td>\n",
              "      <td>...</td>\n",
              "      <td>...</td>\n",
              "      <td>...</td>\n",
              "      <td>...</td>\n",
              "      <td>...</td>\n",
              "      <td>...</td>\n",
              "      <td>...</td>\n",
              "      <td>...</td>\n",
              "      <td>...</td>\n",
              "    </tr>\n",
              "    <tr>\n",
              "      <th>42367</th>\n",
              "      <td>42367</td>\n",
              "      <td>11.56</td>\n",
              "      <td>7.15</td>\n",
              "      <td>9.18</td>\n",
              "      <td>7.510</td>\n",
              "      <td>7.310</td>\n",
              "      <td>8.110</td>\n",
              "      <td>7.29</td>\n",
              "      <td>9.500</td>\n",
              "      <td>5.580</td>\n",
              "      <td>...</td>\n",
              "      <td>15.022</td>\n",
              "      <td>7.78</td>\n",
              "      <td>15.022</td>\n",
              "      <td>7.930</td>\n",
              "      <td>6.54</td>\n",
              "      <td>7.270</td>\n",
              "      <td>12.920</td>\n",
              "      <td>10.030</td>\n",
              "      <td>7.760</td>\n",
              "      <td>0</td>\n",
              "    </tr>\n",
              "    <tr>\n",
              "      <th>42368</th>\n",
              "      <td>42368</td>\n",
              "      <td>0.00</td>\n",
              "      <td>0.00</td>\n",
              "      <td>0.00</td>\n",
              "      <td>0.000</td>\n",
              "      <td>0.000</td>\n",
              "      <td>0.000</td>\n",
              "      <td>0.00</td>\n",
              "      <td>0.000</td>\n",
              "      <td>0.000</td>\n",
              "      <td>...</td>\n",
              "      <td>2.030</td>\n",
              "      <td>2.09</td>\n",
              "      <td>2.060</td>\n",
              "      <td>1.940</td>\n",
              "      <td>2.08</td>\n",
              "      <td>1.960</td>\n",
              "      <td>2.090</td>\n",
              "      <td>1.930</td>\n",
              "      <td>2.080</td>\n",
              "      <td>0</td>\n",
              "    </tr>\n",
              "    <tr>\n",
              "      <th>42369</th>\n",
              "      <td>42369</td>\n",
              "      <td>15.35</td>\n",
              "      <td>15.76</td>\n",
              "      <td>12.32</td>\n",
              "      <td>4.540</td>\n",
              "      <td>14.700</td>\n",
              "      <td>20.230</td>\n",
              "      <td>18.31</td>\n",
              "      <td>22.426</td>\n",
              "      <td>22.426</td>\n",
              "      <td>...</td>\n",
              "      <td>10.390</td>\n",
              "      <td>9.58</td>\n",
              "      <td>8.770</td>\n",
              "      <td>14.330</td>\n",
              "      <td>19.82</td>\n",
              "      <td>18.650</td>\n",
              "      <td>17.460</td>\n",
              "      <td>10.150</td>\n",
              "      <td>16.730</td>\n",
              "      <td>0</td>\n",
              "    </tr>\n",
              "    <tr>\n",
              "      <th>42370</th>\n",
              "      <td>42370</td>\n",
              "      <td>0.00</td>\n",
              "      <td>0.00</td>\n",
              "      <td>0.00</td>\n",
              "      <td>0.000</td>\n",
              "      <td>0.000</td>\n",
              "      <td>0.000</td>\n",
              "      <td>0.00</td>\n",
              "      <td>0.000</td>\n",
              "      <td>0.000</td>\n",
              "      <td>...</td>\n",
              "      <td>16.907</td>\n",
              "      <td>8.61</td>\n",
              "      <td>15.510</td>\n",
              "      <td>11.560</td>\n",
              "      <td>10.82</td>\n",
              "      <td>14.180</td>\n",
              "      <td>7.920</td>\n",
              "      <td>8.930</td>\n",
              "      <td>8.170</td>\n",
              "      <td>0</td>\n",
              "    </tr>\n",
              "    <tr>\n",
              "      <th>42371</th>\n",
              "      <td>42371</td>\n",
              "      <td>5.20</td>\n",
              "      <td>4.78</td>\n",
              "      <td>5.08</td>\n",
              "      <td>6.133</td>\n",
              "      <td>6.133</td>\n",
              "      <td>6.133</td>\n",
              "      <td>6.04</td>\n",
              "      <td>6.133</td>\n",
              "      <td>6.133</td>\n",
              "      <td>...</td>\n",
              "      <td>3.330</td>\n",
              "      <td>2.48</td>\n",
              "      <td>2.770</td>\n",
              "      <td>3.060</td>\n",
              "      <td>2.77</td>\n",
              "      <td>2.530</td>\n",
              "      <td>1.900</td>\n",
              "      <td>2.360</td>\n",
              "      <td>2.510</td>\n",
              "      <td>0</td>\n",
              "    </tr>\n",
              "  </tbody>\n",
              "</table>\n",
              "<p>42372 rows × 1036 columns</p>\n",
              "</div>\n",
              "      <button class=\"colab-df-convert\" onclick=\"convertToInteractive('df-92d59276-bd78-4061-b310-3448cca10eaa')\"\n",
              "              title=\"Convert this dataframe to an interactive table.\"\n",
              "              style=\"display:none;\">\n",
              "        \n",
              "  <svg xmlns=\"http://www.w3.org/2000/svg\" height=\"24px\"viewBox=\"0 0 24 24\"\n",
              "       width=\"24px\">\n",
              "    <path d=\"M0 0h24v24H0V0z\" fill=\"none\"/>\n",
              "    <path d=\"M18.56 5.44l.94 2.06.94-2.06 2.06-.94-2.06-.94-.94-2.06-.94 2.06-2.06.94zm-11 1L8.5 8.5l.94-2.06 2.06-.94-2.06-.94L8.5 2.5l-.94 2.06-2.06.94zm10 10l.94 2.06.94-2.06 2.06-.94-2.06-.94-.94-2.06-.94 2.06-2.06.94z\"/><path d=\"M17.41 7.96l-1.37-1.37c-.4-.4-.92-.59-1.43-.59-.52 0-1.04.2-1.43.59L10.3 9.45l-7.72 7.72c-.78.78-.78 2.05 0 2.83L4 21.41c.39.39.9.59 1.41.59.51 0 1.02-.2 1.41-.59l7.78-7.78 2.81-2.81c.8-.78.8-2.07 0-2.86zM5.41 20L4 18.59l7.72-7.72 1.47 1.35L5.41 20z\"/>\n",
              "  </svg>\n",
              "      </button>\n",
              "      \n",
              "  <style>\n",
              "    .colab-df-container {\n",
              "      display:flex;\n",
              "      flex-wrap:wrap;\n",
              "      gap: 12px;\n",
              "    }\n",
              "\n",
              "    .colab-df-convert {\n",
              "      background-color: #E8F0FE;\n",
              "      border: none;\n",
              "      border-radius: 50%;\n",
              "      cursor: pointer;\n",
              "      display: none;\n",
              "      fill: #1967D2;\n",
              "      height: 32px;\n",
              "      padding: 0 0 0 0;\n",
              "      width: 32px;\n",
              "    }\n",
              "\n",
              "    .colab-df-convert:hover {\n",
              "      background-color: #E2EBFA;\n",
              "      box-shadow: 0px 1px 2px rgba(60, 64, 67, 0.3), 0px 1px 3px 1px rgba(60, 64, 67, 0.15);\n",
              "      fill: #174EA6;\n",
              "    }\n",
              "\n",
              "    [theme=dark] .colab-df-convert {\n",
              "      background-color: #3B4455;\n",
              "      fill: #D2E3FC;\n",
              "    }\n",
              "\n",
              "    [theme=dark] .colab-df-convert:hover {\n",
              "      background-color: #434B5C;\n",
              "      box-shadow: 0px 1px 3px 1px rgba(0, 0, 0, 0.15);\n",
              "      filter: drop-shadow(0px 1px 2px rgba(0, 0, 0, 0.3));\n",
              "      fill: #FFFFFF;\n",
              "    }\n",
              "  </style>\n",
              "\n",
              "      <script>\n",
              "        const buttonEl =\n",
              "          document.querySelector('#df-92d59276-bd78-4061-b310-3448cca10eaa button.colab-df-convert');\n",
              "        buttonEl.style.display =\n",
              "          google.colab.kernel.accessAllowed ? 'block' : 'none';\n",
              "\n",
              "        async function convertToInteractive(key) {\n",
              "          const element = document.querySelector('#df-92d59276-bd78-4061-b310-3448cca10eaa');\n",
              "          const dataTable =\n",
              "            await google.colab.kernel.invokeFunction('convertToInteractive',\n",
              "                                                     [key], {});\n",
              "          if (!dataTable) return;\n",
              "\n",
              "          const docLinkHtml = 'Like what you see? Visit the ' +\n",
              "            '<a target=\"_blank\" href=https://colab.research.google.com/notebooks/data_table.ipynb>data table notebook</a>'\n",
              "            + ' to learn more about interactive tables.';\n",
              "          element.innerHTML = '';\n",
              "          dataTable['output_type'] = 'display_data';\n",
              "          await google.colab.output.renderOutput(dataTable, element);\n",
              "          const docLink = document.createElement('div');\n",
              "          docLink.innerHTML = docLinkHtml;\n",
              "          element.appendChild(docLink);\n",
              "        }\n",
              "      </script>\n",
              "    </div>\n",
              "  </div>\n",
              "  "
            ]
          },
          "metadata": {},
          "execution_count": 30
        }
      ]
    },
    {
      "cell_type": "code",
      "metadata": {
        "id": "ljE9wDvwAk_u"
      },
      "source": [
        "df.drop(['Unnamed: 0'],axis =1,inplace=True)"
      ],
      "execution_count": 5,
      "outputs": []
    },
    {
      "cell_type": "markdown",
      "source": [
        "The rows between 1000 and 10000 are determined as test data."
      ],
      "metadata": {
        "id": "iI6pyr8gtfmu"
      }
    },
    {
      "cell_type": "code",
      "metadata": {
        "id": "5gLp-kc7xkOh"
      },
      "source": [
        "data = df[1000:10000]\n",
        "#data.drop(['Unnamed: 0'],axis =1,inplace=True)\n",
        "data.to_csv('/content/drive/MyDrive/ele401/data_401/test_data.csv')"
      ],
      "execution_count": 6,
      "outputs": []
    },
    {
      "cell_type": "code",
      "metadata": {
        "colab": {
          "base_uri": "https://localhost:8080/"
        },
        "id": "6Oxofj19P1At",
        "outputId": "71bd4017-ba06-4de9-d804-e2d77352fc32"
      },
      "source": [
        "Y = data['OutPut']\n",
        "data.drop(['OutPut'],axis=1,inplace=True)"
      ],
      "execution_count": 7,
      "outputs": [
        {
          "output_type": "stream",
          "name": "stderr",
          "text": [
            "<ipython-input-7-597df0ed2d88>:2: SettingWithCopyWarning: \n",
            "A value is trying to be set on a copy of a slice from a DataFrame\n",
            "\n",
            "See the caveats in the documentation: https://pandas.pydata.org/pandas-docs/stable/user_guide/indexing.html#returning-a-view-versus-a-copy\n",
            "  data.drop(['OutPut'],axis=1,inplace=True)\n"
          ]
        }
      ]
    },
    {
      "cell_type": "markdown",
      "metadata": {
        "id": "hfkMxRRXP5u1"
      },
      "source": [
        "##Full data"
      ]
    },
    {
      "cell_type": "code",
      "metadata": {
        "id": "HOrLkRYwJxdL"
      },
      "source": [
        "Y = df['OutPut']\n",
        "df.drop(['OutPut'],axis=1,inplace=True)"
      ],
      "execution_count": 8,
      "outputs": []
    },
    {
      "cell_type": "code",
      "source": [
        "Y"
      ],
      "metadata": {
        "colab": {
          "base_uri": "https://localhost:8080/"
        },
        "id": "uzE-7ZCNuz1s",
        "outputId": "200b39ee-eaa3-48ee-fa8f-4b769d1ba9fb"
      },
      "execution_count": 36,
      "outputs": [
        {
          "output_type": "execute_result",
          "data": {
            "text/plain": [
              "0        1\n",
              "1        1\n",
              "2        1\n",
              "3        1\n",
              "4        1\n",
              "        ..\n",
              "42367    0\n",
              "42368    0\n",
              "42369    0\n",
              "42370    0\n",
              "42371    0\n",
              "Name: OutPut, Length: 42372, dtype: int64"
            ]
          },
          "metadata": {},
          "execution_count": 36
        }
      ]
    },
    {
      "cell_type": "code",
      "metadata": {
        "id": "E0UO4queFloR",
        "colab": {
          "base_uri": "https://localhost:8080/"
        },
        "outputId": "d3ea6c2f-d90a-4dcf-9411-b1a361390acb"
      },
      "source": [
        "#Count no of 1 in Y\n",
        "count = 0;\n",
        "for i in Y:\n",
        "  if(i==1):\n",
        "    count = count+1\n",
        "print(count)\n"
      ],
      "execution_count": 9,
      "outputs": [
        {
          "output_type": "stream",
          "name": "stdout",
          "text": [
            "3615\n"
          ]
        }
      ]
    },
    {
      "cell_type": "code",
      "metadata": {
        "id": "anqDvyDJ_iYu",
        "colab": {
          "base_uri": "https://localhost:8080/"
        },
        "outputId": "35d56aa9-dbf4-41a9-e740-4cc21c965050"
      },
      "source": [
        "# Count no of 0 in Y\n",
        "len(Y)-count"
      ],
      "execution_count": 10,
      "outputs": [
        {
          "output_type": "execute_result",
          "data": {
            "text/plain": [
              "38757"
            ]
          },
          "metadata": {},
          "execution_count": 10
        }
      ]
    },
    {
      "cell_type": "code",
      "metadata": {
        "id": "sReTMdKfFJPf",
        "colab": {
          "base_uri": "https://localhost:8080/",
          "height": 423
        },
        "outputId": "a358f690-2395-4146-ffa0-57c0fd5cc9d6"
      },
      "source": [
        "df"
      ],
      "execution_count": 35,
      "outputs": [
        {
          "output_type": "execute_result",
          "data": {
            "text/plain": [
              "           0      1      2      3       4       5      6       7       8  \\\n",
              "0       0.00   0.00   0.00  0.000   0.000   0.000   0.00   0.000   0.000   \n",
              "1       0.00   0.00   0.00  0.000   0.000   0.000   0.00   0.000   0.000   \n",
              "2       0.00   0.00   0.00  0.000   0.000   0.000   0.00   0.000   0.000   \n",
              "3       0.00   0.00   0.00  0.000   0.000   0.000   0.00   0.000   0.000   \n",
              "4       2.90   3.42   3.81  4.580   3.560   4.250   3.86   3.530   3.410   \n",
              "...      ...    ...    ...    ...     ...     ...    ...     ...     ...   \n",
              "42367  11.56   7.15   9.18  7.510   7.310   8.110   7.29   9.500   5.580   \n",
              "42368   0.00   0.00   0.00  0.000   0.000   0.000   0.00   0.000   0.000   \n",
              "42369  15.35  15.76  12.32  4.540  14.700  20.230  18.31  22.426  22.426   \n",
              "42370   0.00   0.00   0.00  0.000   0.000   0.000   0.00   0.000   0.000   \n",
              "42371   5.20   4.78   5.08  6.133   6.133   6.133   6.04   6.133   6.133   \n",
              "\n",
              "            9  ...    1024    1025   1026    1027    1028   1029    1030  \\\n",
              "0       0.000  ...  10.120   9.960  16.92   7.600  25.039  18.05  25.039   \n",
              "1       0.000  ...   0.000   0.000   0.00   0.000   0.000   0.00   0.000   \n",
              "2       0.000  ...   0.000   0.000   0.00   0.000   0.000   0.00   0.000   \n",
              "3       0.000  ...   6.500   9.990  11.78  18.590  25.280  18.57  14.590   \n",
              "4       0.850  ...  16.819  10.370  15.32  13.510  12.230  14.68  16.350   \n",
              "...       ...  ...     ...     ...    ...     ...     ...    ...     ...   \n",
              "42367   6.280  ...  15.022  15.022   7.78  15.022   7.930   6.54   7.270   \n",
              "42368   0.000  ...   1.890   2.030   2.09   2.060   1.940   2.08   1.960   \n",
              "42369  21.640  ...  10.710  10.390   9.58   8.770  14.330  19.82  18.650   \n",
              "42370   0.000  ...  15.530  16.907   8.61  15.510  11.560  10.82  14.180   \n",
              "42371   6.133  ...   0.490   3.330   2.48   2.770   3.060   2.77   2.530   \n",
              "\n",
              "         1031    1032    1033  \n",
              "0      18.750  17.840  14.920  \n",
              "1       0.000   0.000   0.000  \n",
              "2       0.000   0.000   0.000  \n",
              "3      12.820  19.370  15.920  \n",
              "4      16.819  16.819  16.819  \n",
              "...       ...     ...     ...  \n",
              "42367  12.920  10.030   7.760  \n",
              "42368   2.090   1.930   2.080  \n",
              "42369  17.460  10.150  16.730  \n",
              "42370   7.920   8.930   8.170  \n",
              "42371   1.900   2.360   2.510  \n",
              "\n",
              "[42372 rows x 1034 columns]"
            ],
            "text/html": [
              "\n",
              "  <div id=\"df-bcf8e91c-eb69-453a-a7bc-6155b360e338\">\n",
              "    <div class=\"colab-df-container\">\n",
              "      <div>\n",
              "<style scoped>\n",
              "    .dataframe tbody tr th:only-of-type {\n",
              "        vertical-align: middle;\n",
              "    }\n",
              "\n",
              "    .dataframe tbody tr th {\n",
              "        vertical-align: top;\n",
              "    }\n",
              "\n",
              "    .dataframe thead th {\n",
              "        text-align: right;\n",
              "    }\n",
              "</style>\n",
              "<table border=\"1\" class=\"dataframe\">\n",
              "  <thead>\n",
              "    <tr style=\"text-align: right;\">\n",
              "      <th></th>\n",
              "      <th>0</th>\n",
              "      <th>1</th>\n",
              "      <th>2</th>\n",
              "      <th>3</th>\n",
              "      <th>4</th>\n",
              "      <th>5</th>\n",
              "      <th>6</th>\n",
              "      <th>7</th>\n",
              "      <th>8</th>\n",
              "      <th>9</th>\n",
              "      <th>...</th>\n",
              "      <th>1024</th>\n",
              "      <th>1025</th>\n",
              "      <th>1026</th>\n",
              "      <th>1027</th>\n",
              "      <th>1028</th>\n",
              "      <th>1029</th>\n",
              "      <th>1030</th>\n",
              "      <th>1031</th>\n",
              "      <th>1032</th>\n",
              "      <th>1033</th>\n",
              "    </tr>\n",
              "  </thead>\n",
              "  <tbody>\n",
              "    <tr>\n",
              "      <th>0</th>\n",
              "      <td>0.00</td>\n",
              "      <td>0.00</td>\n",
              "      <td>0.00</td>\n",
              "      <td>0.000</td>\n",
              "      <td>0.000</td>\n",
              "      <td>0.000</td>\n",
              "      <td>0.00</td>\n",
              "      <td>0.000</td>\n",
              "      <td>0.000</td>\n",
              "      <td>0.000</td>\n",
              "      <td>...</td>\n",
              "      <td>10.120</td>\n",
              "      <td>9.960</td>\n",
              "      <td>16.92</td>\n",
              "      <td>7.600</td>\n",
              "      <td>25.039</td>\n",
              "      <td>18.05</td>\n",
              "      <td>25.039</td>\n",
              "      <td>18.750</td>\n",
              "      <td>17.840</td>\n",
              "      <td>14.920</td>\n",
              "    </tr>\n",
              "    <tr>\n",
              "      <th>1</th>\n",
              "      <td>0.00</td>\n",
              "      <td>0.00</td>\n",
              "      <td>0.00</td>\n",
              "      <td>0.000</td>\n",
              "      <td>0.000</td>\n",
              "      <td>0.000</td>\n",
              "      <td>0.00</td>\n",
              "      <td>0.000</td>\n",
              "      <td>0.000</td>\n",
              "      <td>0.000</td>\n",
              "      <td>...</td>\n",
              "      <td>0.000</td>\n",
              "      <td>0.000</td>\n",
              "      <td>0.00</td>\n",
              "      <td>0.000</td>\n",
              "      <td>0.000</td>\n",
              "      <td>0.00</td>\n",
              "      <td>0.000</td>\n",
              "      <td>0.000</td>\n",
              "      <td>0.000</td>\n",
              "      <td>0.000</td>\n",
              "    </tr>\n",
              "    <tr>\n",
              "      <th>2</th>\n",
              "      <td>0.00</td>\n",
              "      <td>0.00</td>\n",
              "      <td>0.00</td>\n",
              "      <td>0.000</td>\n",
              "      <td>0.000</td>\n",
              "      <td>0.000</td>\n",
              "      <td>0.00</td>\n",
              "      <td>0.000</td>\n",
              "      <td>0.000</td>\n",
              "      <td>0.000</td>\n",
              "      <td>...</td>\n",
              "      <td>0.000</td>\n",
              "      <td>0.000</td>\n",
              "      <td>0.00</td>\n",
              "      <td>0.000</td>\n",
              "      <td>0.000</td>\n",
              "      <td>0.00</td>\n",
              "      <td>0.000</td>\n",
              "      <td>0.000</td>\n",
              "      <td>0.000</td>\n",
              "      <td>0.000</td>\n",
              "    </tr>\n",
              "    <tr>\n",
              "      <th>3</th>\n",
              "      <td>0.00</td>\n",
              "      <td>0.00</td>\n",
              "      <td>0.00</td>\n",
              "      <td>0.000</td>\n",
              "      <td>0.000</td>\n",
              "      <td>0.000</td>\n",
              "      <td>0.00</td>\n",
              "      <td>0.000</td>\n",
              "      <td>0.000</td>\n",
              "      <td>0.000</td>\n",
              "      <td>...</td>\n",
              "      <td>6.500</td>\n",
              "      <td>9.990</td>\n",
              "      <td>11.78</td>\n",
              "      <td>18.590</td>\n",
              "      <td>25.280</td>\n",
              "      <td>18.57</td>\n",
              "      <td>14.590</td>\n",
              "      <td>12.820</td>\n",
              "      <td>19.370</td>\n",
              "      <td>15.920</td>\n",
              "    </tr>\n",
              "    <tr>\n",
              "      <th>4</th>\n",
              "      <td>2.90</td>\n",
              "      <td>3.42</td>\n",
              "      <td>3.81</td>\n",
              "      <td>4.580</td>\n",
              "      <td>3.560</td>\n",
              "      <td>4.250</td>\n",
              "      <td>3.86</td>\n",
              "      <td>3.530</td>\n",
              "      <td>3.410</td>\n",
              "      <td>0.850</td>\n",
              "      <td>...</td>\n",
              "      <td>16.819</td>\n",
              "      <td>10.370</td>\n",
              "      <td>15.32</td>\n",
              "      <td>13.510</td>\n",
              "      <td>12.230</td>\n",
              "      <td>14.68</td>\n",
              "      <td>16.350</td>\n",
              "      <td>16.819</td>\n",
              "      <td>16.819</td>\n",
              "      <td>16.819</td>\n",
              "    </tr>\n",
              "    <tr>\n",
              "      <th>...</th>\n",
              "      <td>...</td>\n",
              "      <td>...</td>\n",
              "      <td>...</td>\n",
              "      <td>...</td>\n",
              "      <td>...</td>\n",
              "      <td>...</td>\n",
              "      <td>...</td>\n",
              "      <td>...</td>\n",
              "      <td>...</td>\n",
              "      <td>...</td>\n",
              "      <td>...</td>\n",
              "      <td>...</td>\n",
              "      <td>...</td>\n",
              "      <td>...</td>\n",
              "      <td>...</td>\n",
              "      <td>...</td>\n",
              "      <td>...</td>\n",
              "      <td>...</td>\n",
              "      <td>...</td>\n",
              "      <td>...</td>\n",
              "      <td>...</td>\n",
              "    </tr>\n",
              "    <tr>\n",
              "      <th>42367</th>\n",
              "      <td>11.56</td>\n",
              "      <td>7.15</td>\n",
              "      <td>9.18</td>\n",
              "      <td>7.510</td>\n",
              "      <td>7.310</td>\n",
              "      <td>8.110</td>\n",
              "      <td>7.29</td>\n",
              "      <td>9.500</td>\n",
              "      <td>5.580</td>\n",
              "      <td>6.280</td>\n",
              "      <td>...</td>\n",
              "      <td>15.022</td>\n",
              "      <td>15.022</td>\n",
              "      <td>7.78</td>\n",
              "      <td>15.022</td>\n",
              "      <td>7.930</td>\n",
              "      <td>6.54</td>\n",
              "      <td>7.270</td>\n",
              "      <td>12.920</td>\n",
              "      <td>10.030</td>\n",
              "      <td>7.760</td>\n",
              "    </tr>\n",
              "    <tr>\n",
              "      <th>42368</th>\n",
              "      <td>0.00</td>\n",
              "      <td>0.00</td>\n",
              "      <td>0.00</td>\n",
              "      <td>0.000</td>\n",
              "      <td>0.000</td>\n",
              "      <td>0.000</td>\n",
              "      <td>0.00</td>\n",
              "      <td>0.000</td>\n",
              "      <td>0.000</td>\n",
              "      <td>0.000</td>\n",
              "      <td>...</td>\n",
              "      <td>1.890</td>\n",
              "      <td>2.030</td>\n",
              "      <td>2.09</td>\n",
              "      <td>2.060</td>\n",
              "      <td>1.940</td>\n",
              "      <td>2.08</td>\n",
              "      <td>1.960</td>\n",
              "      <td>2.090</td>\n",
              "      <td>1.930</td>\n",
              "      <td>2.080</td>\n",
              "    </tr>\n",
              "    <tr>\n",
              "      <th>42369</th>\n",
              "      <td>15.35</td>\n",
              "      <td>15.76</td>\n",
              "      <td>12.32</td>\n",
              "      <td>4.540</td>\n",
              "      <td>14.700</td>\n",
              "      <td>20.230</td>\n",
              "      <td>18.31</td>\n",
              "      <td>22.426</td>\n",
              "      <td>22.426</td>\n",
              "      <td>21.640</td>\n",
              "      <td>...</td>\n",
              "      <td>10.710</td>\n",
              "      <td>10.390</td>\n",
              "      <td>9.58</td>\n",
              "      <td>8.770</td>\n",
              "      <td>14.330</td>\n",
              "      <td>19.82</td>\n",
              "      <td>18.650</td>\n",
              "      <td>17.460</td>\n",
              "      <td>10.150</td>\n",
              "      <td>16.730</td>\n",
              "    </tr>\n",
              "    <tr>\n",
              "      <th>42370</th>\n",
              "      <td>0.00</td>\n",
              "      <td>0.00</td>\n",
              "      <td>0.00</td>\n",
              "      <td>0.000</td>\n",
              "      <td>0.000</td>\n",
              "      <td>0.000</td>\n",
              "      <td>0.00</td>\n",
              "      <td>0.000</td>\n",
              "      <td>0.000</td>\n",
              "      <td>0.000</td>\n",
              "      <td>...</td>\n",
              "      <td>15.530</td>\n",
              "      <td>16.907</td>\n",
              "      <td>8.61</td>\n",
              "      <td>15.510</td>\n",
              "      <td>11.560</td>\n",
              "      <td>10.82</td>\n",
              "      <td>14.180</td>\n",
              "      <td>7.920</td>\n",
              "      <td>8.930</td>\n",
              "      <td>8.170</td>\n",
              "    </tr>\n",
              "    <tr>\n",
              "      <th>42371</th>\n",
              "      <td>5.20</td>\n",
              "      <td>4.78</td>\n",
              "      <td>5.08</td>\n",
              "      <td>6.133</td>\n",
              "      <td>6.133</td>\n",
              "      <td>6.133</td>\n",
              "      <td>6.04</td>\n",
              "      <td>6.133</td>\n",
              "      <td>6.133</td>\n",
              "      <td>6.133</td>\n",
              "      <td>...</td>\n",
              "      <td>0.490</td>\n",
              "      <td>3.330</td>\n",
              "      <td>2.48</td>\n",
              "      <td>2.770</td>\n",
              "      <td>3.060</td>\n",
              "      <td>2.77</td>\n",
              "      <td>2.530</td>\n",
              "      <td>1.900</td>\n",
              "      <td>2.360</td>\n",
              "      <td>2.510</td>\n",
              "    </tr>\n",
              "  </tbody>\n",
              "</table>\n",
              "<p>42372 rows × 1034 columns</p>\n",
              "</div>\n",
              "      <button class=\"colab-df-convert\" onclick=\"convertToInteractive('df-bcf8e91c-eb69-453a-a7bc-6155b360e338')\"\n",
              "              title=\"Convert this dataframe to an interactive table.\"\n",
              "              style=\"display:none;\">\n",
              "        \n",
              "  <svg xmlns=\"http://www.w3.org/2000/svg\" height=\"24px\"viewBox=\"0 0 24 24\"\n",
              "       width=\"24px\">\n",
              "    <path d=\"M0 0h24v24H0V0z\" fill=\"none\"/>\n",
              "    <path d=\"M18.56 5.44l.94 2.06.94-2.06 2.06-.94-2.06-.94-.94-2.06-.94 2.06-2.06.94zm-11 1L8.5 8.5l.94-2.06 2.06-.94-2.06-.94L8.5 2.5l-.94 2.06-2.06.94zm10 10l.94 2.06.94-2.06 2.06-.94-2.06-.94-.94-2.06-.94 2.06-2.06.94z\"/><path d=\"M17.41 7.96l-1.37-1.37c-.4-.4-.92-.59-1.43-.59-.52 0-1.04.2-1.43.59L10.3 9.45l-7.72 7.72c-.78.78-.78 2.05 0 2.83L4 21.41c.39.39.9.59 1.41.59.51 0 1.02-.2 1.41-.59l7.78-7.78 2.81-2.81c.8-.78.8-2.07 0-2.86zM5.41 20L4 18.59l7.72-7.72 1.47 1.35L5.41 20z\"/>\n",
              "  </svg>\n",
              "      </button>\n",
              "      \n",
              "  <style>\n",
              "    .colab-df-container {\n",
              "      display:flex;\n",
              "      flex-wrap:wrap;\n",
              "      gap: 12px;\n",
              "    }\n",
              "\n",
              "    .colab-df-convert {\n",
              "      background-color: #E8F0FE;\n",
              "      border: none;\n",
              "      border-radius: 50%;\n",
              "      cursor: pointer;\n",
              "      display: none;\n",
              "      fill: #1967D2;\n",
              "      height: 32px;\n",
              "      padding: 0 0 0 0;\n",
              "      width: 32px;\n",
              "    }\n",
              "\n",
              "    .colab-df-convert:hover {\n",
              "      background-color: #E2EBFA;\n",
              "      box-shadow: 0px 1px 2px rgba(60, 64, 67, 0.3), 0px 1px 3px 1px rgba(60, 64, 67, 0.15);\n",
              "      fill: #174EA6;\n",
              "    }\n",
              "\n",
              "    [theme=dark] .colab-df-convert {\n",
              "      background-color: #3B4455;\n",
              "      fill: #D2E3FC;\n",
              "    }\n",
              "\n",
              "    [theme=dark] .colab-df-convert:hover {\n",
              "      background-color: #434B5C;\n",
              "      box-shadow: 0px 1px 3px 1px rgba(0, 0, 0, 0.15);\n",
              "      filter: drop-shadow(0px 1px 2px rgba(0, 0, 0, 0.3));\n",
              "      fill: #FFFFFF;\n",
              "    }\n",
              "  </style>\n",
              "\n",
              "      <script>\n",
              "        const buttonEl =\n",
              "          document.querySelector('#df-bcf8e91c-eb69-453a-a7bc-6155b360e338 button.colab-df-convert');\n",
              "        buttonEl.style.display =\n",
              "          google.colab.kernel.accessAllowed ? 'block' : 'none';\n",
              "\n",
              "        async function convertToInteractive(key) {\n",
              "          const element = document.querySelector('#df-bcf8e91c-eb69-453a-a7bc-6155b360e338');\n",
              "          const dataTable =\n",
              "            await google.colab.kernel.invokeFunction('convertToInteractive',\n",
              "                                                     [key], {});\n",
              "          if (!dataTable) return;\n",
              "\n",
              "          const docLinkHtml = 'Like what you see? Visit the ' +\n",
              "            '<a target=\"_blank\" href=https://colab.research.google.com/notebooks/data_table.ipynb>data table notebook</a>'\n",
              "            + ' to learn more about interactive tables.';\n",
              "          element.innerHTML = '';\n",
              "          dataTable['output_type'] = 'display_data';\n",
              "          await google.colab.output.renderOutput(dataTable, element);\n",
              "          const docLink = document.createElement('div');\n",
              "          docLink.innerHTML = docLinkHtml;\n",
              "          element.appendChild(docLink);\n",
              "        }\n",
              "      </script>\n",
              "    </div>\n",
              "  </div>\n",
              "  "
            ]
          },
          "metadata": {},
          "execution_count": 35
        }
      ]
    },
    {
      "cell_type": "code",
      "metadata": {
        "id": "84qYOwjzrkLx"
      },
      "source": [
        "abn_x = df.iloc[4]\n",
        "nor_x = df.iloc[33837]"
      ],
      "execution_count": 11,
      "outputs": []
    },
    {
      "cell_type": "code",
      "metadata": {
        "id": "j01X_9dcxS6N",
        "colab": {
          "base_uri": "https://localhost:8080/",
          "height": 452
        },
        "outputId": "2385e0aa-ccf8-4048-c604-44951e24cdaf"
      },
      "source": [
        "import matplotlib.pyplot as plt\n",
        "%matplotlib inline\n",
        "plt.plot(abn_x,'r-')\n",
        "plt.plot(nor_x,'g-')\n",
        "plt.xlabel('Days')\n",
        "plt.ylabel('Electricity Consumption (kwh) by Date ')\n",
        "plt.show()"
      ],
      "execution_count": null,
      "outputs": [
        {
          "output_type": "display_data",
          "data": {
            "text/plain": [
              "<Figure size 640x480 with 1 Axes>"
            ],
            "image/png": "[encoded data removed]"
          },
          "metadata": {}
        }
      ]
    },
    {
      "cell_type": "code",
      "metadata": {
        "id": "BGRt5V99LLvg"
      },
      "source": [
        "x = np.array(df)\n",
        "y = np.array(Y)"
      ],
      "execution_count": 12,
      "outputs": []
    },
    {
      "cell_type": "code",
      "metadata": {
        "id": "KVZJ2DqULfPm",
        "colab": {
          "base_uri": "https://localhost:8080/"
        },
        "outputId": "20dc2506-01c9-40f2-e031-4e8f75a9df1c"
      },
      "source": [
        "print(x.shape)\n",
        "print(y.shape)"
      ],
      "execution_count": 13,
      "outputs": [
        {
          "output_type": "stream",
          "name": "stdout",
          "text": [
            "(42372, 1034)\n",
            "(42372,)\n"
          ]
        }
      ]
    },
    {
      "cell_type": "markdown",
      "source": [
        "1.test size = 0.15\n",
        "0.1\n",
        "0.25\n",
        "0.50"
      ],
      "metadata": {
        "id": "u10fFBry07MG"
      }
    },
    {
      "cell_type": "code",
      "metadata": {
        "id": "aulU9AqgL0S2"
      },
      "source": [
        "from sklearn.model_selection import train_test_split\n",
        "x_train, x_test, y_train, y_test = train_test_split(x, y, test_size=0.1)"
      ],
      "execution_count": 41,
      "outputs": []
    },
    {
      "cell_type": "code",
      "metadata": {
        "id": "MzhojbvUNQH2",
        "colab": {
          "base_uri": "https://localhost:8080/"
        },
        "outputId": "871b22dd-1650-481e-9b98-b210e3b74f67"
      },
      "source": [
        "print(x_train.shape)\n",
        "print(y_train.shape)\n",
        "print(x_test.shape)\n",
        "print(y_test.shape)"
      ],
      "execution_count": 42,
      "outputs": [
        {
          "output_type": "stream",
          "name": "stdout",
          "text": [
            "(38134, 1034)\n",
            "(38134,)\n",
            "(4238, 1034)\n",
            "(4238,)\n"
          ]
        }
      ]
    },
    {
      "cell_type": "code",
      "metadata": {
        "id": "DjV1ssh_NWx1"
      },
      "source": [
        "from sklearn import svm"
      ],
      "execution_count": 43,
      "outputs": []
    },
    {
      "cell_type": "markdown",
      "source": [
        "1. test parameters c=100, degree=10, rbf\n",
        "2.test param c=50, 1,gamma=2 c=1"
      ],
      "metadata": {
        "id": "2DzU3UlcpYrz"
      }
    },
    {
      "cell_type": "code",
      "metadata": {
        "id": "KEM3DFXhOLt2",
        "colab": {
          "base_uri": "https://localhost:8080/",
          "height": 74
        },
        "outputId": "25bb6c56-8d3a-4ac3-a53c-e6b32eb2e081"
      },
      "source": [
        "clf = svm.SVC(gamma=0.5, C=10) #C = 100, degree = 10, kernel = 'rbf', \n",
        "clf.fit(x_train, y_train)"
      ],
      "execution_count": 44,
      "outputs": [
        {
          "output_type": "execute_result",
          "data": {
            "text/plain": [
              "SVC(C=10, gamma=0.5)"
            ],
            "text/html": [
              "<style>#sk-container-id-6 {color: black;background-color: white;}#sk-container-id-6 pre{padding: 0;}#sk-container-id-6 div.sk-toggleable {background-color: white;}#sk-container-id-6 label.sk-toggleable__label {cursor: pointer;display: block;width: 100%;margin-bottom: 0;padding: 0.3em;box-sizing: border-box;text-align: center;}#sk-container-id-6 label.sk-toggleable__label-arrow:before {content: \"▸\";float: left;margin-right: 0.25em;color: #696969;}#sk-container-id-6 label.sk-toggleable__label-arrow:hover:before {color: black;}#sk-container-id-6 div.sk-estimator:hover label.sk-toggleable__label-arrow:before {color: black;}#sk-container-id-6 div.sk-toggleable__content {max-height: 0;max-width: 0;overflow: hidden;text-align: left;background-color: #f0f8ff;}#sk-container-id-6 div.sk-toggleable__content pre {margin: 0.2em;color: black;border-radius: 0.25em;background-color: #f0f8ff;}#sk-container-id-6 input.sk-toggleable__control:checked~div.sk-toggleable__content {max-height: 200px;max-width: 100%;overflow: auto;}#sk-container-id-6 input.sk-toggleable__control:checked~label.sk-toggleable__label-arrow:before {content: \"▾\";}#sk-container-id-6 div.sk-estimator input.sk-toggleable__control:checked~label.sk-toggleable__label {background-color: #d4ebff;}#sk-container-id-6 div.sk-label input.sk-toggleable__control:checked~label.sk-toggleable__label {background-color: #d4ebff;}#sk-container-id-6 input.sk-hidden--visually {border: 0;clip: rect(1px 1px 1px 1px);clip: rect(1px, 1px, 1px, 1px);height: 1px;margin: -1px;overflow: hidden;padding: 0;position: absolute;width: 1px;}#sk-container-id-6 div.sk-estimator {font-family: monospace;background-color: #f0f8ff;border: 1px dotted black;border-radius: 0.25em;box-sizing: border-box;margin-bottom: 0.5em;}#sk-container-id-6 div.sk-estimator:hover {background-color: #d4ebff;}#sk-container-id-6 div.sk-parallel-item::after {content: \"\";width: 100%;border-bottom: 1px solid gray;flex-grow: 1;}#sk-container-id-6 div.sk-label:hover label.sk-toggleable__label {background-color: #d4ebff;}#sk-container-id-6 div.sk-serial::before {content: \"\";position: absolute;border-left: 1px solid gray;box-sizing: border-box;top: 0;bottom: 0;left: 50%;z-index: 0;}#sk-container-id-6 div.sk-serial {display: flex;flex-direction: column;align-items: center;background-color: white;padding-right: 0.2em;padding-left: 0.2em;position: relative;}#sk-container-id-6 div.sk-item {position: relative;z-index: 1;}#sk-container-id-6 div.sk-parallel {display: flex;align-items: stretch;justify-content: center;background-color: white;position: relative;}#sk-container-id-6 div.sk-item::before, #sk-container-id-6 div.sk-parallel-item::before {content: \"\";position: absolute;border-left: 1px solid gray;box-sizing: border-box;top: 0;bottom: 0;left: 50%;z-index: -1;}#sk-container-id-6 div.sk-parallel-item {display: flex;flex-direction: column;z-index: 1;position: relative;background-color: white;}#sk-container-id-6 div.sk-parallel-item:first-child::after {align-self: flex-end;width: 50%;}#sk-container-id-6 div.sk-parallel-item:last-child::after {align-self: flex-start;width: 50%;}#sk-container-id-6 div.sk-parallel-item:only-child::after {width: 0;}#sk-container-id-6 div.sk-dashed-wrapped {border: 1px dashed gray;margin: 0 0.4em 0.5em 0.4em;box-sizing: border-box;padding-bottom: 0.4em;background-color: white;}#sk-container-id-6 div.sk-label label {font-family: monospace;font-weight: bold;display: inline-block;line-height: 1.2em;}#sk-container-id-6 div.sk-label-container {text-align: center;}#sk-container-id-6 div.sk-container {/* jupyter's `normalize.less` sets `[hidden] { display: none; }` but bootstrap.min.css set `[hidden] { display: none !important; }` so we also need the `!important` here to be able to override the default hidden behavior on the sphinx rendered scikit-learn.org. See: https://github.com/scikit-learn/scikit-learn/issues/21755 */display: inline-block !important;position: relative;}#sk-container-id-6 div.sk-text-repr-fallback {display: none;}</style><div id=\"sk-container-id-6\" class=\"sk-top-container\"><div class=\"sk-text-repr-fallback\"><pre>SVC(C=10, gamma=0.5)</pre><b>In a Jupyter environment, please rerun this cell to show the HTML representation or trust the notebook. <br />On GitHub, the HTML representation is unable to render, please try loading this page with nbviewer.org.</b></div><div class=\"sk-container\" hidden><div class=\"sk-item\"><div class=\"sk-estimator sk-toggleable\"><input class=\"sk-toggleable__control sk-hidden--visually\" id=\"sk-estimator-id-6\" type=\"checkbox\" checked><label for=\"sk-estimator-id-6\" class=\"sk-toggleable__label sk-toggleable__label-arrow\">SVC</label><div class=\"sk-toggleable__content\"><pre>SVC(C=10, gamma=0.5)</pre></div></div></div></div></div>"
            ]
          },
          "metadata": {},
          "execution_count": 44
        }
      ]
    },
    {
      "cell_type": "code",
      "metadata": {
        "id": "iZGIWxexOZGG"
      },
      "source": [
        "y_pred = clf.predict(x_test)"
      ],
      "execution_count": 47,
      "outputs": []
    },
    {
      "cell_type": "markdown",
      "source": [
        "The precision is intuitively the ability of the classifier not to label a negative sample as positive.\n",
        "The recall is intuitively the ability of the classifier to find all the positive samples."
      ],
      "metadata": {
        "id": "rIGlJAcm2ie4"
      }
    },
    {
      "cell_type": "code",
      "metadata": {
        "id": "tlWQ5Vj7Orkd",
        "colab": {
          "base_uri": "https://localhost:8080/"
        },
        "outputId": "e6ce4715-c047-4bb3-b452-cff6b9945eb7"
      },
      "source": [
        "from sklearn.metrics import classification_report\n",
        "print(classification_report(y_test, y_pred))"
      ],
      "execution_count": 48,
      "outputs": [
        {
          "output_type": "stream",
          "name": "stdout",
          "text": [
            "              precision    recall  f1-score   support\n",
            "\n",
            "           0       0.91      0.92      0.91      3875\n",
            "           1       0.00      0.00      0.00       363\n",
            "\n",
            "    accuracy                           0.84      4238\n",
            "   macro avg       0.45      0.46      0.46      4238\n",
            "weighted avg       0.83      0.84      0.83      4238\n",
            "\n"
          ]
        }
      ]
    },
    {
      "cell_type": "code",
      "metadata": {
        "id": "jkqTBNjaQWT2",
        "colab": {
          "base_uri": "https://localhost:8080/"
        },
        "outputId": "e35951fa-39b8-49ee-deff-273ba897897e"
      },
      "source": [
        "from sklearn.metrics import accuracy_score\n",
        "accuracy_score(y_test, y_pred)"
      ],
      "execution_count": 49,
      "outputs": [
        {
          "output_type": "execute_result",
          "data": {
            "text/plain": [
              "0.838839075035394"
            ]
          },
          "metadata": {},
          "execution_count": 49
        }
      ]
    },
    {
      "cell_type": "code",
      "metadata": {
        "id": "h4lDqSYPwTKQ"
      },
      "source": [],
      "execution_count": null,
      "outputs": []
    },
    {
      "cell_type": "markdown",
      "metadata": {
        "id": "kGGs8ddOweFP"
      },
      "source": [
        "#save model"
      ]
    },
    {
      "cell_type": "code",
      "metadata": {
        "id": "La6_WnZzwjak",
        "colab": {
          "base_uri": "https://localhost:8080/"
        },
        "outputId": "b2bfe428-1048-4c66-ad27-1698b404fd12"
      },
      "source": [
        "from joblib import dump, load\n",
        "dump(clf, '/content/drive/MyDrive/ele401/final401/SVM.joblib')"
      ],
      "execution_count": 50,
      "outputs": [
        {
          "output_type": "execute_result",
          "data": {
            "text/plain": [
              "['/content/drive/MyDrive/ele401/final401/SVM.joblib']"
            ]
          },
          "metadata": {},
          "execution_count": 50
        }
      ]
    },
    {
      "cell_type": "code",
      "metadata": {
        "id": "uSORMJq5w8gk",
        "colab": {
          "base_uri": "https://localhost:8080/"
        },
        "outputId": "b7ee115d-2492-477f-c34d-81f8b06d1d1d"
      },
      "source": [
        "!cp 'final_SVM.joblib' '/content/drive/MyDrive/ele401/final401/final_SVM.joblib'"
      ],
      "execution_count": null,
      "outputs": [
        {
          "output_type": "stream",
          "name": "stdout",
          "text": [
            "cp: cannot stat 'final_SVM.joblib': No such file or directory\n"
          ]
        }
      ]
    },
    {
      "cell_type": "code",
      "metadata": {
        "id": "eo1hspbhwxs3"
      },
      "source": [
        "\n"
      ],
      "execution_count": null,
      "outputs": []
    },
    {
      "cell_type": "code",
      "metadata": {
        "id": "fDTa1FoLQ3_x"
      },
      "source": [
        "#Normalised False give no of correctly clasify sample\n",
        "#Normalised True give percentage accuracy\n",
        "count = accuracy_score(y_test, y_pred, normalize=False)"
      ],
      "execution_count": 51,
      "outputs": []
    },
    {
      "cell_type": "code",
      "metadata": {
        "id": "s19ZgXhcShWY",
        "colab": {
          "base_uri": "https://localhost:8080/"
        },
        "outputId": "12f37ea0-57b8-4990-a8bf-745ea0de0e72"
      },
      "source": [
        "print('No of correctly classify sample ',count, ' out of ',len(y_test))\n"
      ],
      "execution_count": 52,
      "outputs": [
        {
          "output_type": "stream",
          "name": "stdout",
          "text": [
            "No of correctly classify sample  3555  out of  4238\n"
          ]
        }
      ]
    },
    {
      "cell_type": "code",
      "source": [
        "pip install --upgrade scikit-learn"
      ],
      "metadata": {
        "colab": {
          "base_uri": "https://localhost:8080/"
        },
        "id": "hrStifmBX1N-",
        "outputId": "aa0d5bff-c0f7-4418-abcf-6ada3ab7c282"
      },
      "execution_count": 53,
      "outputs": [
        {
          "output_type": "stream",
          "name": "stdout",
          "text": [
            "Looking in indexes: https://pypi.org/simple, https://us-python.pkg.dev/colab-wheels/public/simple/\n",
            "Requirement already satisfied: scikit-learn in /usr/local/lib/python3.10/dist-packages (1.2.2)\n",
            "Requirement already satisfied: numpy>=1.17.3 in /usr/local/lib/python3.10/dist-packages (from scikit-learn) (1.22.4)\n",
            "Requirement already satisfied: scipy>=1.3.2 in /usr/local/lib/python3.10/dist-packages (from scikit-learn) (1.10.1)\n",
            "Requirement already satisfied: joblib>=1.1.1 in /usr/local/lib/python3.10/dist-packages (from scikit-learn) (1.2.0)\n",
            "Requirement already satisfied: threadpoolctl>=2.0.0 in /usr/local/lib/python3.10/dist-packages (from scikit-learn) (3.1.0)\n"
          ]
        }
      ]
    },
    {
      "cell_type": "code",
      "metadata": {
        "id": "6wENO-bHTTDK",
        "colab": {
          "base_uri": "https://localhost:8080/",
          "height": 466
        },
        "outputId": "bb2650fd-8560-4c04-983d-2ccf45cf75f7"
      },
      "source": [
        "#from sklearn.metrics import plot_confusion_matrix\n",
        "from sklearn.metrics import confusion_matrix, ConfusionMatrixDisplay\n",
        "cm = confusion_matrix(y_test, y_pred, labels=clf.classes_)\n",
        "disp = ConfusionMatrixDisplay(confusion_matrix=cm,display_labels=clf.classes_)\n",
        "#plot_confusion_matrix(clf, x_test, y_test)\n",
        "#plt.show()\n",
        "disp.plot()\n",
        "#plt.show()"
      ],
      "execution_count": 54,
      "outputs": [
        {
          "output_type": "execute_result",
          "data": {
            "text/plain": [
              "<sklearn.metrics._plot.confusion_matrix.ConfusionMatrixDisplay at 0x7f718ec833d0>"
            ]
          },
          "metadata": {},
          "execution_count": 54
        },
        {
          "output_type": "display_data",
          "data": {
            "text/plain": [
              "<Figure size 640x480 with 2 Axes>"
            ],
            "image/png": "[encoded data removed]"
          },
          "metadata": {}
        }
      ]
    },
    {
      "cell_type": "code",
      "metadata": {
        "id": "QUa2u_-uZYLG",
        "colab": {
          "base_uri": "https://localhost:8080/",
          "height": 991
        },
        "outputId": "f2a41309-5789-4125-9525-ea962af5e7d6"
      },
      "source": [
        "# Plot non-normalized confusion matrix\n",
        "titles_options = [(\"Confusion matrix SVM@80\", None),\n",
        "                  (\"Normalized confusion matrix\", 'true')]\n",
        "for title, normalize in titles_options:\n",
        "    ConfusionMatrixDisplay.from_estimator(clf, x_test, y_test,display_labels=['Normal','Theft'],cmap=plt.cm.Blues,normalize=normalize)\n",
        "    disp.ax_.set_title(title)\n",
        "\n",
        "    print(title)\n",
        "    print(disp.confusion_matrix)\n",
        "\n",
        "plt.show()"
      ],
      "execution_count": 55,
      "outputs": [
        {
          "output_type": "stream",
          "name": "stdout",
          "text": [
            "Confusion matrix SVM@80\n",
            "[[3555  320]\n",
            " [ 363    0]]\n",
            "Normalized confusion matrix\n",
            "[[3555  320]\n",
            " [ 363    0]]\n"
          ]
        },
        {
          "output_type": "display_data",
          "data": {
            "text/plain": [
              "<Figure size 640x480 with 2 Axes>"
            ],
            "image/png": "[encoded data removed]"
          },
          "metadata": {}
        },
        {
          "output_type": "display_data",
          "data": {
            "text/plain": [
              "<Figure size 640x480 with 2 Axes>"
            ],
            "image/png": "[encoded data removed]"
          },
          "metadata": {}
        }
      ]
    }
  ]
}